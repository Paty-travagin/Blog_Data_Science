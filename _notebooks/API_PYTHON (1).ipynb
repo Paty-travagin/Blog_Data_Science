{
 "cells": [
  {
   "cell_type": "markdown",
   "id": "4d70a67f",
   "metadata": {},
   "source": [
    "# Api com Python\n",
    "\n",
    "#### Nesta tarefa vamos criar uma API para cotar o dolar e outra para retornar CEP"
   ]
  },
  {
   "cell_type": "markdown",
   "id": "abc5e3bc",
   "metadata": {},
   "source": [
    "#### Importando bibliotecas"
   ]
  },
  {
   "cell_type": "code",
   "execution_count": null,
   "id": "ef1cd1ad",
   "metadata": {},
   "outputs": [],
   "source": [
    "import requests \n",
    "import json"
   ]
  },
  {
   "cell_type": "markdown",
   "id": "b85b3941",
   "metadata": {},
   "source": [
    "#### Para criar esse código primeiro precisa pegar o link na pagina da web (https://docs.awesomeapi.com.br/api-cep)\n",
    "#### Transformar em jason e retornar os campos que deseja."
   ]
  },
  {
   "cell_type": "code",
   "execution_count": 32,
   "id": "195b31b8",
   "metadata": {},
   "outputs": [
    {
     "name": "stdout",
     "output_type": "stream",
     "text": [
      "4.8746\n"
     ]
    }
   ],
   "source": [
    "cotacoes = requests.get(' https://economia.awesomeapi.com.br/last/USD-BRL,EUR-BRL,BTC-BRL')\n",
    "cotacoes= cotacoes.json()\n",
    "cotacao_dolar = cotacoes['USDBRL']['bid']\n",
    "print(cotacao_dolar)"
   ]
  },
  {
   "cell_type": "code",
   "execution_count": 53,
   "id": "5012cbe2",
   "metadata": {},
   "outputs": [
    {
     "name": "stdout",
     "output_type": "stream",
     "text": [
      "05424020\n",
      "Pinheiros\n",
      "['address_name']\n",
      "São Paulo\n",
      "SP\n"
     ]
    }
   ],
   "source": [
    "cep=requests.get(' https://cep.awesomeapi.com.br/json/05424020')\n",
    "cep= cep.json()\n",
    "cp= cep['cep']\n",
    "rua= cep['district']\n",
    "nome_rua=['address_name']\n",
    "city= cep['city']\n",
    "state= cep['state']\n",
    "\n",
    "\n",
    "print(cp)\n",
    "print(rua)\n",
    "print(nome_rua)\n",
    "print(city)\n",
    "print(state)\n",
    "\n",
    "\n",
    "\n",
    "\n"
   ]
  },
  {
   "cell_type": "code",
   "execution_count": null,
   "id": "b2b876a4",
   "metadata": {},
   "outputs": [],
   "source": []
  }
 ],
 "metadata": {
  "kernelspec": {
   "display_name": "Python 3 (ipykernel)",
   "language": "python",
   "name": "python3"
  },
  "language_info": {
   "codemirror_mode": {
    "name": "ipython",
    "version": 3
   },
   "file_extension": ".py",
   "mimetype": "text/x-python",
   "name": "python",
   "nbconvert_exporter": "python",
   "pygments_lexer": "ipython3",
   "version": "3.9.7"
  }
 },
 "nbformat": 4,
 "nbformat_minor": 5
}
