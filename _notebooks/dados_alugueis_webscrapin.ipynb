{
 "cells": [
  {
   "cell_type": "markdown",
   "id": "d01a978f",
   "metadata": {},
   "source": [
    "# Dados de alugueis com Webscrapin\n",
    "\n"
   ]
  },
  {
   "cell_type": "code",
   "execution_count": null,
   "id": "e31b235c",
   "metadata": {},
   "outputs": [],
   "source": [
    "from selenium import webdriver"
   ]
  },
  {
   "cell_type": "code",
   "execution_count": 15,
   "id": "5b40bb45",
   "metadata": {},
   "outputs": [],
   "source": [
    "driver = webdriver.Chrome()\n",
    "driver.get('https://www.google.com.br')"
   ]
  },
  {
   "cell_type": "code",
   "execution_count": 16,
   "id": "1b8fc346",
   "metadata": {},
   "outputs": [
    {
     "name": "stderr",
     "output_type": "stream",
     "text": [
      "C:\\Users\\User\\AppData\\Local\\Temp/ipykernel_3828/1413251176.py:1: DeprecationWarning: find_element_by_xpath is deprecated. Please use find_element(by=By.XPATH, value=xpath) instead\n",
      "  barra_pesquisa = driver.find_element_by_xpath('/html/body/div[1]/div[3]/form/div[1]/div[1]/div[1]/div/div[2]/input')\n"
     ]
    }
   ],
   "source": [
    "barra_pesquisa = driver.find_element_by_xpath('/html/body/div[1]/div[3]/form/div[1]/div[1]/div[1]/div/div[2]/input')"
   ]
  },
  {
   "cell_type": "code",
   "execution_count": 17,
   "id": "a179a492",
   "metadata": {},
   "outputs": [],
   "source": [
    "barra_pesquisa.send_keys(' dados de imóveis como área total, quantidade de quartos zona da cidade kagle\\n')"
   ]
  },
  {
   "cell_type": "code",
   "execution_count": 5,
   "id": "ea4133c9",
   "metadata": {},
   "outputs": [],
   "source": [
    "barra_pesquisa.clear()"
   ]
  },
  {
   "cell_type": "code",
   "execution_count": 18,
   "id": "48105f59",
   "metadata": {},
   "outputs": [
    {
     "name": "stderr",
     "output_type": "stream",
     "text": [
      "C:\\Users\\User\\AppData\\Local\\Temp/ipykernel_3828/156612792.py:1: DeprecationWarning: find_element_by_xpath is deprecated. Please use find_element(by=By.XPATH, value=xpath) instead\n",
      "  resultado = driver.find_element_by_xpath('/html/body/div[1]')\n"
     ]
    }
   ],
   "source": [
    "resultado = driver.find_element_by_xpath('/html/body/div[1]')"
   ]
  },
  {
   "cell_type": "code",
   "execution_count": null,
   "id": "b8b611a9",
   "metadata": {},
   "outputs": [],
   "source": []
  }
 ],
 "metadata": {
  "kernelspec": {
   "display_name": "Python 3 (ipykernel)",
   "language": "python",
   "name": "python3"
  },
  "language_info": {
   "codemirror_mode": {
    "name": "ipython",
    "version": 3
   },
   "file_extension": ".py",
   "mimetype": "text/x-python",
   "name": "python",
   "nbconvert_exporter": "python",
   "pygments_lexer": "ipython3",
   "version": "3.9.7"
  }
 },
 "nbformat": 4,
 "nbformat_minor": 5
}
